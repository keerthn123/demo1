{
  "nbformat": 4,
  "nbformat_minor": 0,
  "metadata": {
    "colab": {
      "name": "Untitled0.ipynb",
      "provenance": [],
      "collapsed_sections": [],
      "authorship_tag": "ABX9TyMsrv1LRu1ESkFHrbQq2Cx6",
      "include_colab_link": true
    },
    "kernelspec": {
      "name": "python3",
      "display_name": "Python 3"
    },
    "language_info": {
      "name": "python"
    }
  },
  "cells": [
    {
      "cell_type": "markdown",
      "metadata": {
        "id": "view-in-github",
        "colab_type": "text"
      },
      "source": [
        "<a href=\"https://colab.research.google.com/github/keerthn123/demo1/blob/main/Untitled0.ipynb\" target=\"_parent\"><img src=\"https://colab.research.google.com/assets/colab-badge.svg\" alt=\"Open In Colab\"/></a>"
      ]
    },
    {
      "cell_type": "markdown",
      "source": [
        "1. Read a signal peptide sequence from the user into a variable, change the case and print it. Also print the length of the sequence. (Hint- use string manipulation functions)"
      ],
      "metadata": {
        "id": "7s2mKgOHJS8N"
      }
    },
    {
      "cell_type": "code",
      "execution_count": null,
      "metadata": {
        "id": "iCdEtluMpaqO"
      },
      "outputs": [],
      "source": [
        "signal_peptide_sequence = input(\"Enter the Signal Peptide Sequence : \")\n",
        "signal_peptide_sequence = signal_peptide_sequence.upper()\n",
        "length = len(signal_peptide_sequence)\n",
        "print(signal_peptide_sequence)\n",
        "print(\"The length of signal peptide sequence : \"+str(length))"
      ]
    },
    {
      "cell_type": "markdown",
      "source": [
        "2. Given DNA sequance is  = \"GTGCATCTGACTCCTGAGGAGAAG\"\n",
        "Generate to mRNa sequence using python"
      ],
      "metadata": {
        "id": "cO14NyMK1VNe"
      }
    },
    {
      "cell_type": "code",
      "source": [
        "sequance = 'AATGCATATGCA'\n",
        "sequance\n",
        "dna2rna = {'A': 'U', 'T': 'A', 'C': 'G', 'G': 'C'}\n",
        "\n",
        "rna_seq = str()\n",
        "for nucleotide in sequance:\n",
        "  rna_seq += dna2rna[nucleotide]\n",
        "\n",
        "  print('DNA', sequance)\n",
        "  print('mRNA', rna_seq)"
      ],
      "metadata": {
        "id": "YMzoJZtZ2QDm"
      },
      "execution_count": null,
      "outputs": []
    },
    {
      "cell_type": "markdown",
      "source": [
        "                 OR"
      ],
      "metadata": {
        "id": "ffGqJMaJ_Wwe"
      }
    },
    {
      "cell_type": "code",
      "source": [
        "DNAseq=input('ENTER DNA SEQUENCE')\n",
        "DNAseq=DNAseq.upper()\n",
        "mRNAseq=DNAseq.replace('A','U')\n",
        "mRNAseq=mRNAseq.replace('T','A')\n",
        "mRNAseq=mRNAseq.replace(\"G\",\"x\")\n",
        "mRNAseq=mRNAseq.replace(\"C\",\"G\")\n",
        "mRNAseq=mRNAseq.replace(\"x\",\"C\")\n",
        "print(\"DNA sequence: \",DNAseq)\n",
        "print(\"mRNA sequence: \",mRNAseq)"
      ],
      "metadata": {
        "id": "DD1lwQQA-ja9"
      },
      "execution_count": null,
      "outputs": []
    },
    {
      "cell_type": "markdown",
      "source": [
        "3  = Read a DNA sequence and print the number of different bases in the sequence. (Hint-use count function)"
      ],
      "metadata": {
        "id": "XpSBmYGpDTDA"
      }
    },
    {
      "cell_type": "code",
      "source": [
        "dna_sequance = input('ENTER DNA SEQUENCE = ')\n",
        "dna_sequance = dna_sequance.upper()\n",
        "a=dna_sequance.count(\"A\")\n",
        "b=dna_sequance.count(\"G\")\n",
        "c=dna_sequance.count(\"C\")\n",
        "d=dna_sequance.count(\"T\")\n",
        "print(a)\n",
        "print(b)\n",
        "print(c)\n",
        "print(d)\n"
      ],
      "metadata": {
        "id": "UzogCMbSDZ2c"
      },
      "execution_count": null,
      "outputs": []
    },
    {
      "cell_type": "markdown",
      "source": [
        "4. Read a DNA sequence from the user and calculate the percentage of GC content in the sequence. (Hint-use count function)"
      ],
      "metadata": {
        "id": "-cuGON-xJeh_"
      }
    },
    {
      "cell_type": "code",
      "source": [
        "import random\n",
        "dna=''.join(random.choice('ATGCN') for i in range(2048))\n",
        "print(dna)\n",
        "print(\"A count\",round((dna.count(\"A\")/2048)*100),\"%\")\n",
        "print(\"T count\",round((dna.count(\"T\")/2048)*100),\"%\")\n",
        "print(\"G count\",round((dna.count(\"G\")/2048)*100),\"%\")\n",
        "print(\"C count\",round((dna.count(\"C\")/2048)*100),\"%\")\n",
        "print(\"AT count\",round((dna.count(\"AT\")/2048)*100),\"%\")\n",
        "print(\"GC count\",round((dna.count(\"GC\")/2048)*100),\"%\")"
      ],
      "metadata": {
        "colab": {
          "base_uri": "https://localhost:8080/"
        },
        "id": "WDkUSv4HNzOq",
        "outputId": "0ea6b2da-985d-40c5-d6ac-d3a43d9f9fc2"
      },
      "execution_count": 55,
      "outputs": [
        {
          "output_type": "stream",
          "name": "stdout",
          "text": [
            "ANNTGTCCCCCTNTGGGTGTACCCTCNTANTCNTAAACGCGNTCTTTTGTAGTCTTACNNNANAANCANGNCNANANTTTCAGCATGGCNTCGNCNATAGGCTCNCCCGGAGNTGNNNGCGNCAAAGACCCTNTNCNCNACACTAAAATGGTTCAGGATAGGTANCCTCCGGNGTGACCANGNNTNCNGATAATGCNTATAGTGCATAACGGCTGNNGCTGNGNACGGACCCATNGTCGCTACAGACCTGGTNTCANGCAGGAGTANNCNACTCNCTGCANNCCNNTNGGATACGCGANTCAGNAAATCGCCTNNNTTANGCNATAACCTCNATGAAGCTGTCNNTNNTNGACNCACNTCTANGACGCTNCCNNACNNAACGCGTTCNCNGNACGNATCCTATTNTTATCTCTATNGTGACTNANNAGGGGCTGANAGANGNNATTTTCCTCGGGCCCTAACCTGTCCNNNTNCNTATGTANNNCCNGTCCGGCGNAAAGTNAGGGTGNANCNATGTGCTGGNCCGGGCAGGCAAGNTNNTATGGNGNTNACNNNGATCNNTCNGAGNAGCTCCAACCNTNGGNCTCATACCAGTTCAAAGCANGAAGGNCNNATNCTNCTCCAATGNNCNGTNCATNTCTCGNCAATGCGANCANGAGTCGTCTCTGCGAATTAGNCATTNNNGTAAGGGNACNNCAACTGGTCAACGNNCNTANGCCANNNTCATCTTACTCNNCCCCTANCNGNTGCCGCTAATNCAAGCAGNGACANTGCGGNNCNCGAACAGCGNTATTGAGGCNCTNGANCGTNAANTTCGNTGCCTNTACANTGNTCNATCAGTCCCACGANTGNTTTANNAGNAACCGCCGTNTNGNTCCGACTANCGTNNTTNGCTACATCTTAGGGNGAACANGNCACTCTCCGTATGNNNTNNCANCTAAATTNTCACGAGNGTNGAAACTTNCNATCTCCGGCAANNTATCNNGNNNATNCCGGACTAGATGTTCACTTCNNGCGCNNCTANTATNNGGATAGTCGCGACNGGTCTAAGNGTGNCGGCNCATCTACTTAGANTATTANGCCTCGAGGGCNAGCANGACANGNCNGCNAGGGAGGACCTTNTCCAATACTTTGCNCANNGCCCCGANNTCACCCAANTCAGAGNAGTNAGATGTNGCCNAGGAANCAGTTCCNTNNNCNGANCCNNATTNAGAANTNGACGNCAGCGCAAACCGTGTCNTNTATTGACNTAAGAAAGTTCATNAGGTTTTGANANCGCNGTNCGCGGGACANAACNCCNGTCACCCACANANAGGGTTANNNGTCTNCGNGAGGGGCACNNGGTNANGCAANANCNAGTCNGTATGTNGTAAAGAANNNTGCAAGNAANTGGCNTNTAGNTCCTTCGGATANTTTCNNGNACGCTTGNNTNNANCNNNATAGTATGCNGAGANAACCTGCGTANCTNCANACGNTGGTTAGNCANTATGNCCGTNCATTCGTTTNNCGTNNGTGTNTNTGTTATNATTAAATCGTACTAACNNCTGTCNACGAGTTCNCAANCAGGCNANNTGNGCAAAGAGANCGCTACTNTNNTNTATGGNNNGCNCGATTGGANACAANGGNNAGCCCTNNTTGCTCCTNAGGAANCCTCGNGGAAANATTNACAGCCCTGTNCTCCAATGNGTTGGNGNTNGNGGNNNTNNNCNTNTNTTGANNCGNGATCGTAAGGTGCGGAGCGNTAANNGTNTGNTNGATAGNTANTTAAATNCATAGCGCTNTCNNNNNACAANGNCNNCAGGGCGGCNTNCGTNANAGNCGCTCCCCCACANACCCAACGNTTGCGCGTNACATNCGTNGGAGGCTTCTAGGNTGTACCTTNCGCNCTATNCNNGNNNNGNCAGCTCNCATTTCTNTGNGGGGTNCCNCCANTNGACTNNTATTTANGAACTNNCTGNTNNNNAACCNCGTCGAATGGNGCTAGTNTTNNAAAATNANCAANNGTAGCTGANACAAAGGAACTTCACGANCTGAGACCGGATCCTANG\n",
            "A count 20 %\n",
            "T count 19 %\n",
            "G count 19 %\n",
            "C count 21 %\n",
            "AT count 4 %\n",
            "GC count 4 %\n"
          ]
        }
      ]
    },
    {
      "cell_type": "code",
      "source": [
        "\n",
        "sequence = input(\"DNA sequence = \")\n",
        "\n",
        "\n",
        "def count(seq):\n",
        "  a = 0\n",
        "  t = 0\n",
        "  c = 0\n",
        "  g = 0\n",
        "  \n",
        "  for n in seq:\n",
        "    if n == 'a':\n",
        "      a += 1\n",
        "    elif n == 't':\n",
        "      t += 1\n",
        "    elif n == 'c':\n",
        "       c += 1\n",
        "    elif n == 'g':\n",
        "      g += 1\n",
        "  length = Len(seq)\n",
        "  return a / length, t / length, c / length, g / length\n",
        "per = count(sequence)\n",
        "print(\"The GC content is = \" + str((per[2] + per[3])* 100) +\"%\")"
      ],
      "metadata": {
        "id": "50rDUvAOOG6s"
      },
      "execution_count": null,
      "outputs": []
    },
    {
      "cell_type": "code",
      "source": [
        ""
      ],
      "metadata": {
        "id": "yw7Nwc5LZZS5"
      },
      "execution_count": null,
      "outputs": []
    }
  ]
}